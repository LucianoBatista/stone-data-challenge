{
 "cells": [
  {
   "cell_type": "markdown",
   "metadata": {},
   "source": [
    "## Libraries\n"
   ]
  },
  {
   "cell_type": "code",
   "execution_count": 1,
   "metadata": {},
   "outputs": [],
   "source": [
    "import pandas as pd\n",
    "from src.feature_engineering import features\n",
    "import numpy as np"
   ]
  },
  {
   "cell_type": "markdown",
   "metadata": {},
   "source": [
    "## Data\n"
   ]
  },
  {
   "cell_type": "code",
   "execution_count": 2,
   "metadata": {},
   "outputs": [],
   "source": [
    "clients = pd.read_csv(\"data/portfolio_clientes.csv\")\n",
    "tpv = pd.read_csv(\"data/portfolio_tpv.csv\")\n",
    "comunicados = pd.read_csv(\"data/portfolio_comunicados.csv\")\n",
    "geral = pd.read_csv(\"data/portfolio_geral.csv\")"
   ]
  },
  {
   "cell_type": "markdown",
   "metadata": {},
   "source": [
    "### Apenas contratos que possuem comunicados"
   ]
  },
  {
   "cell_type": "code",
   "execution_count": 3,
   "metadata": {},
   "outputs": [],
   "source": [
    "unique_contratos = comunicados[\"contrato_id\"].unique()\n",
    "geral_comunicados = geral[geral[\"contrato_id\"].isin(unique_contratos)]"
   ]
  },
  {
   "cell_type": "code",
   "execution_count": 4,
   "metadata": {},
   "outputs": [],
   "source": [
    "comunicados_grouped = (\n",
    "    comunicados.groupby([\"contrato_id\", \"dt_ref_portfolio\", \"data_acao\"])[\n",
    "        [\"tipo_acao\", \"status\", \"acao\"]\n",
    "    ]\n",
    "    .agg(list)\n",
    "    .reset_index()\n",
    ")"
   ]
  },
  {
   "cell_type": "code",
   "execution_count": 5,
   "metadata": {},
   "outputs": [],
   "source": [
    "geral_comunicados_grouped = geral_comunicados.merge(\n",
    "    right=comunicados_grouped, how=\"left\", on=[\"contrato_id\", \"dt_ref_portfolio\"]\n",
    ")"
   ]
  },
  {
   "cell_type": "code",
   "execution_count": 6,
   "metadata": {},
   "outputs": [],
   "source": [
    "geral_and_comunicados_sorted_df = geral_comunicados_grouped.sort_values(\n",
    "    [\"contrato_id\", \"dt_ref_portfolio\"]\n",
    ")"
   ]
  },
  {
   "cell_type": "markdown",
   "metadata": {},
   "source": [
    "### Criação de Features DSP e DSPP"
   ]
  },
  {
   "cell_type": "code",
   "execution_count": 7,
   "metadata": {},
   "outputs": [],
   "source": [
    "contrato_dsp_features = (\n",
    "    geral_and_comunicados_sorted_df.groupby([\"contrato_id\"])[\"dsp\"]\n",
    "    .agg(\n",
    "        [\n",
    "            features.total_success_dsp5,\n",
    "            features.total_success_dsp10,\n",
    "            features.total_success_dsp15,\n",
    "            features.total_success_dsp30,\n",
    "            features.total_success_dsp60,\n",
    "            features.total_success_dsp90,\n",
    "            features.prop_success_dsp5,\n",
    "            features.prop_success_dsp10,\n",
    "            features.prop_success_dsp15,\n",
    "            features.prop_success_dsp30,\n",
    "            features.prop_success_dsp60,\n",
    "            features.prop_success_dsp90,\n",
    "        ]\n",
    "    )\n",
    "    .reset_index()\n",
    ")"
   ]
  },
  {
   "cell_type": "code",
   "execution_count": 8,
   "metadata": {},
   "outputs": [],
   "source": [
    "contrato_dspp_features = (\n",
    "    geral_and_comunicados_sorted_df.groupby([\"contrato_id\"])[\"dspp\"]\n",
    "    .agg(\n",
    "        [\n",
    "            features.total_success_dspp15,\n",
    "            features.total_success_dspp30,\n",
    "            features.total_success_dspp45,\n",
    "            features.prop_success_dspp15,\n",
    "            features.prop_success_dspp30,\n",
    "            features.prop_success_dspp45,\n",
    "        ]\n",
    "    )\n",
    "    .reset_index()\n",
    ")"
   ]
  },
  {
   "cell_type": "code",
   "execution_count": 9,
   "metadata": {},
   "outputs": [],
   "source": [
    "contrato_dsp_dspp = contrato_dsp_features.merge(\n",
    "    right=contrato_dspp_features, on=\"contrato_id\", how=\"inner\"\n",
    ")"
   ]
  },
  {
   "cell_type": "markdown",
   "metadata": {},
   "source": [
    "### Score DSP e DSPP"
   ]
  },
  {
   "cell_type": "code",
   "execution_count": 10,
   "metadata": {},
   "outputs": [
    {
     "name": "stderr",
     "output_type": "stream",
     "text": [
      "/tmp/ipykernel_16520/2624332410.py:5: RuntimeWarning: Mean of empty slice\n",
      "  means_dspp.append(np.nanmean(row[16:19]))\n",
      "/tmp/ipykernel_16520/2624332410.py:4: RuntimeWarning: Mean of empty slice\n",
      "  means_dsp.append(np.nanmean(row[7:13]))\n"
     ]
    }
   ],
   "source": [
    "means_dsp = []\n",
    "means_dspp = []\n",
    "for i, row in contrato_dsp_dspp.iterrows():\n",
    "    means_dsp.append(np.nanmean(row[7:13]))\n",
    "    means_dspp.append(np.nanmean(row[16:19]))\n",
    "\n",
    "contrato_dsp_dspp[\"score_dsp\"] = means_dsp\n",
    "contrato_dsp_dspp[\"score_dspp\"] = means_dspp"
   ]
  },
  {
   "cell_type": "markdown",
   "metadata": {},
   "source": [
    "### Entregou? Não entregou? Leu?"
   ]
  },
  {
   "cell_type": "code",
   "execution_count": 11,
   "metadata": {},
   "outputs": [],
   "source": [
    "acionamentos_delivery = (\n",
    "    geral_and_comunicados_sorted_df.groupby([\"contrato_id\"])[\"status\"]\n",
    "    .agg([features.get_entregue, features.get_lido, features.get_nao_entregue])\n",
    "    .reset_index()\n",
    ")"
   ]
  },
  {
   "cell_type": "code",
   "execution_count": 12,
   "metadata": {},
   "outputs": [],
   "source": [
    "contrato_dsp_dspp_qtd_acoes = contrato_dsp_dspp.merge(\n",
    "    right=acionamentos_delivery, how=\"inner\", on=\"contrato_id\"\n",
    ")"
   ]
  },
  {
   "cell_type": "markdown",
   "metadata": {},
   "source": [
    "### Valor devedor esperado"
   ]
  },
  {
   "cell_type": "code",
   "execution_count": 13,
   "metadata": {},
   "outputs": [],
   "source": [
    "# features de vlr_saldo_devedor\n",
    "vlr_saldo_devedor_inicial = geral_and_comunicados_sorted_df.drop_duplicates(\n",
    "    [\"contrato_id\"]\n",
    ")[[\"contrato_id\", \"vlr_saldo_devedor_esperado\"]]\n",
    "\n",
    "c_dsp_dspp_qtd_acoes_devedor = contrato_dsp_dspp_qtd_acoes.merge(\n",
    "    right=vlr_saldo_devedor_inicial, how=\"inner\", on=\"contrato_id\"\n",
    ")"
   ]
  },
  {
   "cell_type": "markdown",
   "metadata": {},
   "source": [
    "### Dados cadastrais"
   ]
  },
  {
   "cell_type": "code",
   "execution_count": 14,
   "metadata": {},
   "outputs": [],
   "source": [
    "x_contrato_id_nr_documento = geral_and_comunicados_sorted_df.drop_duplicates(\n",
    "    [\"contrato_id\", \"nr_documento\"]\n",
    ")[[\"contrato_id\", \"nr_documento\"]]"
   ]
  },
  {
   "cell_type": "code",
   "execution_count": 15,
   "metadata": {},
   "outputs": [],
   "source": [
    "c_dsp_dspp_qtd_acoes_devedor_w_doc = c_dsp_dspp_qtd_acoes_devedor.merge(\n",
    "    right=x_contrato_id_nr_documento, how=\"inner\", on=\"contrato_id\"\n",
    ")"
   ]
  },
  {
   "cell_type": "code",
   "execution_count": 16,
   "metadata": {},
   "outputs": [],
   "source": [
    "# clientes_unique\n",
    "clientes_unique_nr_doc = (\n",
    "    clients.groupby(\"nr_documento\")[\n",
    "        [\"tipo_empresa\", \"cidade\", \"estado\", \"subsegmento\", \"segmento\"]\n",
    "    ]\n",
    "    .agg(lambda x: list(x) if len(x) > 1 else x)\n",
    "    .reset_index()\n",
    ")"
   ]
  },
  {
   "cell_type": "code",
   "execution_count": 17,
   "metadata": {},
   "outputs": [],
   "source": [
    "c_dsp_dspp_qtd_acoes_devedor_w_doc_and_clients = (\n",
    "    c_dsp_dspp_qtd_acoes_devedor_w_doc.merge(\n",
    "        right=clientes_unique_nr_doc, on=\"nr_documento\", how=\"inner\"\n",
    "    )\n",
    ")"
   ]
  },
  {
   "cell_type": "markdown",
   "metadata": {},
   "source": [
    "### TPV"
   ]
  },
  {
   "cell_type": "code",
   "execution_count": 18,
   "metadata": {},
   "outputs": [],
   "source": [
    "qtd_trans_tpv = tpv.groupby(\"nr_documento\")[[\"qtd_transacoes\", \"vlr_tpv\"]].agg(\n",
    "    [\"mean\", \"min\", \"max\", np.median, \"sum\"]\n",
    ")"
   ]
  },
  {
   "cell_type": "code",
   "execution_count": 19,
   "metadata": {},
   "outputs": [
    {
     "name": "stderr",
     "output_type": "stream",
     "text": [
      "/tmp/ipykernel_16520/2644427141.py:1: FutureWarning: merging between different levels is deprecated and will be removed in a future version. (1 levels on the left, 2 on the right)\n",
      "  final_df = c_dsp_dspp_qtd_acoes_devedor_w_doc_and_clients.merge(\n"
     ]
    }
   ],
   "source": [
    "final_df = c_dsp_dspp_qtd_acoes_devedor_w_doc_and_clients.merge(\n",
    "    right=qtd_trans_tpv, how=\"left\", on=\"nr_documento\"\n",
    ")"
   ]
  },
  {
   "cell_type": "code",
   "execution_count": 20,
   "metadata": {},
   "outputs": [],
   "source": [
    "final_df.to_csv(\"data/to_analysis.csv\", index=False)"
   ]
  },
  {
   "cell_type": "code",
   "execution_count": null,
   "metadata": {},
   "outputs": [],
   "source": []
  }
 ],
 "metadata": {
  "interpreter": {
   "hash": "f7ec56705207b4df6e4b62673b04c7af8813faa7697e87dfd361d559640d37ea"
  },
  "kernelspec": {
   "display_name": "Python 3.10.0 ('stone-data-challenge--l-DuxZ5-py3.10')",
   "language": "python",
   "name": "python3"
  },
  "language_info": {
   "codemirror_mode": {
    "name": "ipython",
    "version": 3
   },
   "file_extension": ".py",
   "mimetype": "text/x-python",
   "name": "python",
   "nbconvert_exporter": "python",
   "pygments_lexer": "ipython3",
   "version": "3.10.0"
  },
  "orig_nbformat": 4
 },
 "nbformat": 4,
 "nbformat_minor": 2
}
