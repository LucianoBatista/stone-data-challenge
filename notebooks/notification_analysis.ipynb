{
 "cells": [
  {
   "cell_type": "code",
   "execution_count": 1,
   "metadata": {},
   "outputs": [],
   "source": [
    "import pandas as pd"
   ]
  },
  {
   "cell_type": "markdown",
   "metadata": {},
   "source": [
    "## Data\n"
   ]
  },
  {
   "cell_type": "code",
   "execution_count": 2,
   "metadata": {},
   "outputs": [
    {
     "name": "stdout",
     "output_type": "stream",
     "text": [
      "Shape of p_geral: (8061006, 22). Shape of p_comunicados (403740, 6)\n"
     ]
    }
   ],
   "source": [
    "p_geral = pd.read_csv(\"data/portfolio_geral.csv\")\n",
    "p_comunicados = pd.read_csv(\"data/portfolio_comunicados.csv\")\n",
    "\n",
    "print(\n",
    "    \"Shape of p_geral: {}. Shape of p_comunicados {}\".format(\n",
    "        p_geral.shape, p_comunicados.shape\n",
    "    )\n",
    ")"
   ]
  },
  {
   "cell_type": "markdown",
   "metadata": {},
   "source": [
    "Vamos agora selecionar apenas os contratos que sofreram alguma comunicação, e assim filtraremos a tabela de `portifolio_geral`.\n"
   ]
  },
  {
   "cell_type": "code",
   "execution_count": 8,
   "metadata": {},
   "outputs": [],
   "source": [
    "unique_contratos = p_comunicados[\"contrato_id\"].unique()\n",
    "p_geral_comunicados = p_geral[p_geral[\"contrato_id\"].isin(unique_contratos)]"
   ]
  },
  {
   "cell_type": "markdown",
   "metadata": {},
   "source": [
    "Como visto no diagrama de relacionamento, na tabela `portfolio_comunicados` um registro único é identificado por três primary keys. Para evitar dados duplicados quando realizarmos um join com a tabela de `portfolio_geral`, vamos agrupar os casos onde houveram os dois tipos da variável `tipo_acao` e os tipos de `status`.\n"
   ]
  },
  {
   "cell_type": "code",
   "execution_count": 13,
   "metadata": {},
   "outputs": [],
   "source": [
    "p_comunicados_grouped = (\n",
    "    p_comunicados.groupby([\"contrato_id\", \"dt_ref_portfolio\", \"data_acao\", \"acao\"])[\n",
    "        [\"tipo_acao\", \"status\"]\n",
    "    ]\n",
    "    .agg(list)\n",
    "    .reset_index()\n",
    ")"
   ]
  },
  {
   "cell_type": "code",
   "execution_count": null,
   "metadata": {},
   "outputs": [],
   "source": []
  }
 ],
 "metadata": {
  "interpreter": {
   "hash": "f7ec56705207b4df6e4b62673b04c7af8813faa7697e87dfd361d559640d37ea"
  },
  "kernelspec": {
   "display_name": "Python 3.10.0 ('stone-data-challenge--l-DuxZ5-py3.10')",
   "language": "python",
   "name": "python3"
  },
  "language_info": {
   "codemirror_mode": {
    "name": "ipython",
    "version": 3
   },
   "file_extension": ".py",
   "mimetype": "text/x-python",
   "name": "python",
   "nbconvert_exporter": "python",
   "pygments_lexer": "ipython3",
   "version": "3.10.0"
  },
  "orig_nbformat": 4
 },
 "nbformat": 4,
 "nbformat_minor": 2
}
